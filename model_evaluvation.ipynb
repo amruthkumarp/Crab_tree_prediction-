{
  "nbformat": 4,
  "nbformat_minor": 0,
  "metadata": {
    "colab": {
      "provenance": []
    },
    "kernelspec": {
      "name": "python3",
      "display_name": "Python 3"
    },
    "language_info": {
      "name": "python"
    }
  },
  "cells": [
    {
      "cell_type": "code",
      "source": [
        "!pip install biopython"
      ],
      "metadata": {
        "colab": {
          "base_uri": "https://localhost:8080/"
        },
        "id": "vSZQRJxuhmoA",
        "outputId": "c8cbb185-9c04-44fd-8dd8-1f47bd0eb110"
      },
      "execution_count": 1,
      "outputs": [
        {
          "output_type": "stream",
          "name": "stdout",
          "text": [
            "Collecting biopython\n",
            "  Downloading biopython-1.85-cp311-cp311-manylinux_2_17_x86_64.manylinux2014_x86_64.whl.metadata (13 kB)\n",
            "Requirement already satisfied: numpy in /usr/local/lib/python3.11/dist-packages (from biopython) (2.0.2)\n",
            "Downloading biopython-1.85-cp311-cp311-manylinux_2_17_x86_64.manylinux2014_x86_64.whl (3.3 MB)\n",
            "\u001b[2K   \u001b[90m━━━━━━━━━━━━━━━━━━━━━━━━━━━━━━━━━━━━━━━━\u001b[0m \u001b[32m3.3/3.3 MB\u001b[0m \u001b[31m24.9 MB/s\u001b[0m eta \u001b[36m0:00:00\u001b[0m\n",
            "\u001b[?25hInstalling collected packages: biopython\n",
            "Successfully installed biopython-1.85\n"
          ]
        }
      ]
    },
    {
      "cell_type": "code",
      "execution_count": 2,
      "metadata": {
        "id": "0euYvn4YhZ6B"
      },
      "outputs": [],
      "source": [
        "import os\n",
        "import pandas as pd\n",
        "import numpy as np\n",
        "from Bio import SeqIO\n",
        "from sklearn.model_selection import StratifiedKFold\n",
        "from sklearn.feature_extraction.text import CountVectorizer\n",
        "from sklearn.decomposition import PCA\n",
        "from sklearn.linear_model import LogisticRegression\n",
        "from sklearn.svm import SVC\n",
        "from sklearn.naive_bayes import MultinomialNB\n",
        "from sklearn.ensemble import RandomForestClassifier\n",
        "from sklearn.neighbors import KNeighborsClassifier\n",
        "from xgboost import XGBClassifier\n",
        "from sklearn.metrics import accuracy_score, precision_score, recall_score, f1_score\n",
        "import warnings\n",
        "warnings.filterwarnings('ignore')\n",
        "import matplotlib.pyplot as plt\n",
        "import seaborn as sns\n",
        "from sklearn.model_selection import cross_val_score\n",
        "from matplotlib.colors import ListedColormap\n",
        "from sklearn.manifold import TSNE"
      ]
    },
    {
      "cell_type": "code",
      "source": [
        "np_load=np.load('result.npy')"
      ],
      "metadata": {
        "id": "dLgmLa1phxT7"
      },
      "execution_count": 6,
      "outputs": []
    },
    {
      "cell_type": "code",
      "source": [
        "np_load.shape"
      ],
      "metadata": {
        "colab": {
          "base_uri": "https://localhost:8080/"
        },
        "id": "gSHfd6CDi5py",
        "outputId": "5ba326ad-365e-4cbe-c20b-58df950de52b"
      },
      "execution_count": 7,
      "outputs": [
        {
          "output_type": "execute_result",
          "data": {
            "text/plain": [
              "(64, 512, 1024)"
            ]
          },
          "metadata": {},
          "execution_count": 7
        }
      ]
    },
    {
      "cell_type": "code",
      "source": [
        "result=np_load.mean(axis=1)"
      ],
      "metadata": {
        "id": "sboSruBmi7wt"
      },
      "execution_count": 8,
      "outputs": []
    },
    {
      "cell_type": "code",
      "source": [
        "result.shape"
      ],
      "metadata": {
        "colab": {
          "base_uri": "https://localhost:8080/"
        },
        "id": "NE4p1mjcjN7u",
        "outputId": "fc2b4f0f-3b81-4861-87f0-494132cde06f"
      },
      "execution_count": 9,
      "outputs": [
        {
          "output_type": "execute_result",
          "data": {
            "text/plain": [
              "(64, 1024)"
            ]
          },
          "metadata": {},
          "execution_count": 9
        }
      ]
    },
    {
      "cell_type": "code",
      "source": [
        "final_embeddings=np.save('final_embeddings.npy',result)"
      ],
      "metadata": {
        "id": "UGwX7ZzAqcwG"
      },
      "execution_count": 62,
      "outputs": []
    },
    {
      "cell_type": "code",
      "source": [
        "df=pd.DataFrame(result)"
      ],
      "metadata": {
        "id": "FixFyIT8jRGd"
      },
      "execution_count": 10,
      "outputs": []
    },
    {
      "cell_type": "code",
      "source": [
        "df.head()"
      ],
      "metadata": {
        "colab": {
          "base_uri": "https://localhost:8080/",
          "height": 255
        },
        "id": "Q39WFqmdjWMX",
        "outputId": "42bcb771-a01c-42ee-d7b2-b65331b4f2b7"
      },
      "execution_count": 12,
      "outputs": [
        {
          "output_type": "execute_result",
          "data": {
            "text/plain": [
              "       0         1         2         3         4         5         6     \\\n",
              "0 -0.153901  0.215569  0.091525 -0.227793  0.234947  0.005588 -0.121599   \n",
              "1 -0.183757  0.231597  0.176775 -0.271214  0.185417 -0.039271 -0.119767   \n",
              "2 -0.196014  0.248278  0.207246 -0.328365  0.211659 -0.015317 -0.094369   \n",
              "3 -0.191772  0.218992  0.155774 -0.274358  0.195491 -0.007639 -0.116360   \n",
              "4 -0.215841  0.149433  0.113639 -0.323872  0.219298 -0.052719 -0.235411   \n",
              "\n",
              "       7         8         9     ...      1014      1015      1016      1017  \\\n",
              "0  0.082298 -0.192559 -0.063096  ...  0.106784 -0.039421 -0.207978 -0.097944   \n",
              "1  0.052893 -0.178024 -0.012841  ...  0.086609 -0.050969 -0.110115 -0.035936   \n",
              "2  0.073252 -0.149931 -0.002763  ...  0.029769 -0.043258 -0.100250  0.007566   \n",
              "3  0.038897 -0.164156  0.009429  ...  0.059498 -0.003239 -0.159647 -0.037740   \n",
              "4  0.010137 -0.138184  0.128476  ...  0.016611  0.006175 -0.246824  0.020935   \n",
              "\n",
              "       1018      1019      1020      1021      1022      1023  \n",
              "0 -0.216062  0.001153  0.035346 -0.007842  0.077081  0.121129  \n",
              "1 -0.196804  0.009869  0.068853 -0.033861  0.136247  0.138711  \n",
              "2 -0.189010 -0.004896  0.035212 -0.045467  0.131107  0.187292  \n",
              "3 -0.191508  0.021841  0.060696 -0.037066  0.124531  0.157191  \n",
              "4 -0.153527  0.005034  0.018748 -0.015877  0.175337  0.194603  \n",
              "\n",
              "[5 rows x 1024 columns]"
            ],
            "text/html": [
              "\n",
              "  <div id=\"df-ed4eab8f-455d-44d1-bdd6-87655fdff966\" class=\"colab-df-container\">\n",
              "    <div>\n",
              "<style scoped>\n",
              "    .dataframe tbody tr th:only-of-type {\n",
              "        vertical-align: middle;\n",
              "    }\n",
              "\n",
              "    .dataframe tbody tr th {\n",
              "        vertical-align: top;\n",
              "    }\n",
              "\n",
              "    .dataframe thead th {\n",
              "        text-align: right;\n",
              "    }\n",
              "</style>\n",
              "<table border=\"1\" class=\"dataframe\">\n",
              "  <thead>\n",
              "    <tr style=\"text-align: right;\">\n",
              "      <th></th>\n",
              "      <th>0</th>\n",
              "      <th>1</th>\n",
              "      <th>2</th>\n",
              "      <th>3</th>\n",
              "      <th>4</th>\n",
              "      <th>5</th>\n",
              "      <th>6</th>\n",
              "      <th>7</th>\n",
              "      <th>8</th>\n",
              "      <th>9</th>\n",
              "      <th>...</th>\n",
              "      <th>1014</th>\n",
              "      <th>1015</th>\n",
              "      <th>1016</th>\n",
              "      <th>1017</th>\n",
              "      <th>1018</th>\n",
              "      <th>1019</th>\n",
              "      <th>1020</th>\n",
              "      <th>1021</th>\n",
              "      <th>1022</th>\n",
              "      <th>1023</th>\n",
              "    </tr>\n",
              "  </thead>\n",
              "  <tbody>\n",
              "    <tr>\n",
              "      <th>0</th>\n",
              "      <td>-0.153901</td>\n",
              "      <td>0.215569</td>\n",
              "      <td>0.091525</td>\n",
              "      <td>-0.227793</td>\n",
              "      <td>0.234947</td>\n",
              "      <td>0.005588</td>\n",
              "      <td>-0.121599</td>\n",
              "      <td>0.082298</td>\n",
              "      <td>-0.192559</td>\n",
              "      <td>-0.063096</td>\n",
              "      <td>...</td>\n",
              "      <td>0.106784</td>\n",
              "      <td>-0.039421</td>\n",
              "      <td>-0.207978</td>\n",
              "      <td>-0.097944</td>\n",
              "      <td>-0.216062</td>\n",
              "      <td>0.001153</td>\n",
              "      <td>0.035346</td>\n",
              "      <td>-0.007842</td>\n",
              "      <td>0.077081</td>\n",
              "      <td>0.121129</td>\n",
              "    </tr>\n",
              "    <tr>\n",
              "      <th>1</th>\n",
              "      <td>-0.183757</td>\n",
              "      <td>0.231597</td>\n",
              "      <td>0.176775</td>\n",
              "      <td>-0.271214</td>\n",
              "      <td>0.185417</td>\n",
              "      <td>-0.039271</td>\n",
              "      <td>-0.119767</td>\n",
              "      <td>0.052893</td>\n",
              "      <td>-0.178024</td>\n",
              "      <td>-0.012841</td>\n",
              "      <td>...</td>\n",
              "      <td>0.086609</td>\n",
              "      <td>-0.050969</td>\n",
              "      <td>-0.110115</td>\n",
              "      <td>-0.035936</td>\n",
              "      <td>-0.196804</td>\n",
              "      <td>0.009869</td>\n",
              "      <td>0.068853</td>\n",
              "      <td>-0.033861</td>\n",
              "      <td>0.136247</td>\n",
              "      <td>0.138711</td>\n",
              "    </tr>\n",
              "    <tr>\n",
              "      <th>2</th>\n",
              "      <td>-0.196014</td>\n",
              "      <td>0.248278</td>\n",
              "      <td>0.207246</td>\n",
              "      <td>-0.328365</td>\n",
              "      <td>0.211659</td>\n",
              "      <td>-0.015317</td>\n",
              "      <td>-0.094369</td>\n",
              "      <td>0.073252</td>\n",
              "      <td>-0.149931</td>\n",
              "      <td>-0.002763</td>\n",
              "      <td>...</td>\n",
              "      <td>0.029769</td>\n",
              "      <td>-0.043258</td>\n",
              "      <td>-0.100250</td>\n",
              "      <td>0.007566</td>\n",
              "      <td>-0.189010</td>\n",
              "      <td>-0.004896</td>\n",
              "      <td>0.035212</td>\n",
              "      <td>-0.045467</td>\n",
              "      <td>0.131107</td>\n",
              "      <td>0.187292</td>\n",
              "    </tr>\n",
              "    <tr>\n",
              "      <th>3</th>\n",
              "      <td>-0.191772</td>\n",
              "      <td>0.218992</td>\n",
              "      <td>0.155774</td>\n",
              "      <td>-0.274358</td>\n",
              "      <td>0.195491</td>\n",
              "      <td>-0.007639</td>\n",
              "      <td>-0.116360</td>\n",
              "      <td>0.038897</td>\n",
              "      <td>-0.164156</td>\n",
              "      <td>0.009429</td>\n",
              "      <td>...</td>\n",
              "      <td>0.059498</td>\n",
              "      <td>-0.003239</td>\n",
              "      <td>-0.159647</td>\n",
              "      <td>-0.037740</td>\n",
              "      <td>-0.191508</td>\n",
              "      <td>0.021841</td>\n",
              "      <td>0.060696</td>\n",
              "      <td>-0.037066</td>\n",
              "      <td>0.124531</td>\n",
              "      <td>0.157191</td>\n",
              "    </tr>\n",
              "    <tr>\n",
              "      <th>4</th>\n",
              "      <td>-0.215841</td>\n",
              "      <td>0.149433</td>\n",
              "      <td>0.113639</td>\n",
              "      <td>-0.323872</td>\n",
              "      <td>0.219298</td>\n",
              "      <td>-0.052719</td>\n",
              "      <td>-0.235411</td>\n",
              "      <td>0.010137</td>\n",
              "      <td>-0.138184</td>\n",
              "      <td>0.128476</td>\n",
              "      <td>...</td>\n",
              "      <td>0.016611</td>\n",
              "      <td>0.006175</td>\n",
              "      <td>-0.246824</td>\n",
              "      <td>0.020935</td>\n",
              "      <td>-0.153527</td>\n",
              "      <td>0.005034</td>\n",
              "      <td>0.018748</td>\n",
              "      <td>-0.015877</td>\n",
              "      <td>0.175337</td>\n",
              "      <td>0.194603</td>\n",
              "    </tr>\n",
              "  </tbody>\n",
              "</table>\n",
              "<p>5 rows × 1024 columns</p>\n",
              "</div>\n",
              "    <div class=\"colab-df-buttons\">\n",
              "\n",
              "  <div class=\"colab-df-container\">\n",
              "    <button class=\"colab-df-convert\" onclick=\"convertToInteractive('df-ed4eab8f-455d-44d1-bdd6-87655fdff966')\"\n",
              "            title=\"Convert this dataframe to an interactive table.\"\n",
              "            style=\"display:none;\">\n",
              "\n",
              "  <svg xmlns=\"http://www.w3.org/2000/svg\" height=\"24px\" viewBox=\"0 -960 960 960\">\n",
              "    <path d=\"M120-120v-720h720v720H120Zm60-500h600v-160H180v160Zm220 220h160v-160H400v160Zm0 220h160v-160H400v160ZM180-400h160v-160H180v160Zm440 0h160v-160H620v160ZM180-180h160v-160H180v160Zm440 0h160v-160H620v160Z\"/>\n",
              "  </svg>\n",
              "    </button>\n",
              "\n",
              "  <style>\n",
              "    .colab-df-container {\n",
              "      display:flex;\n",
              "      gap: 12px;\n",
              "    }\n",
              "\n",
              "    .colab-df-convert {\n",
              "      background-color: #E8F0FE;\n",
              "      border: none;\n",
              "      border-radius: 50%;\n",
              "      cursor: pointer;\n",
              "      display: none;\n",
              "      fill: #1967D2;\n",
              "      height: 32px;\n",
              "      padding: 0 0 0 0;\n",
              "      width: 32px;\n",
              "    }\n",
              "\n",
              "    .colab-df-convert:hover {\n",
              "      background-color: #E2EBFA;\n",
              "      box-shadow: 0px 1px 2px rgba(60, 64, 67, 0.3), 0px 1px 3px 1px rgba(60, 64, 67, 0.15);\n",
              "      fill: #174EA6;\n",
              "    }\n",
              "\n",
              "    .colab-df-buttons div {\n",
              "      margin-bottom: 4px;\n",
              "    }\n",
              "\n",
              "    [theme=dark] .colab-df-convert {\n",
              "      background-color: #3B4455;\n",
              "      fill: #D2E3FC;\n",
              "    }\n",
              "\n",
              "    [theme=dark] .colab-df-convert:hover {\n",
              "      background-color: #434B5C;\n",
              "      box-shadow: 0px 1px 3px 1px rgba(0, 0, 0, 0.15);\n",
              "      filter: drop-shadow(0px 1px 2px rgba(0, 0, 0, 0.3));\n",
              "      fill: #FFFFFF;\n",
              "    }\n",
              "  </style>\n",
              "\n",
              "    <script>\n",
              "      const buttonEl =\n",
              "        document.querySelector('#df-ed4eab8f-455d-44d1-bdd6-87655fdff966 button.colab-df-convert');\n",
              "      buttonEl.style.display =\n",
              "        google.colab.kernel.accessAllowed ? 'block' : 'none';\n",
              "\n",
              "      async function convertToInteractive(key) {\n",
              "        const element = document.querySelector('#df-ed4eab8f-455d-44d1-bdd6-87655fdff966');\n",
              "        const dataTable =\n",
              "          await google.colab.kernel.invokeFunction('convertToInteractive',\n",
              "                                                    [key], {});\n",
              "        if (!dataTable) return;\n",
              "\n",
              "        const docLinkHtml = 'Like what you see? Visit the ' +\n",
              "          '<a target=\"_blank\" href=https://colab.research.google.com/notebooks/data_table.ipynb>data table notebook</a>'\n",
              "          + ' to learn more about interactive tables.';\n",
              "        element.innerHTML = '';\n",
              "        dataTable['output_type'] = 'display_data';\n",
              "        await google.colab.output.renderOutput(dataTable, element);\n",
              "        const docLink = document.createElement('div');\n",
              "        docLink.innerHTML = docLinkHtml;\n",
              "        element.appendChild(docLink);\n",
              "      }\n",
              "    </script>\n",
              "  </div>\n",
              "\n",
              "\n",
              "    <div id=\"df-d8ce1e74-7db4-4852-bee8-ab9c3f134949\">\n",
              "      <button class=\"colab-df-quickchart\" onclick=\"quickchart('df-d8ce1e74-7db4-4852-bee8-ab9c3f134949')\"\n",
              "                title=\"Suggest charts\"\n",
              "                style=\"display:none;\">\n",
              "\n",
              "<svg xmlns=\"http://www.w3.org/2000/svg\" height=\"24px\"viewBox=\"0 0 24 24\"\n",
              "     width=\"24px\">\n",
              "    <g>\n",
              "        <path d=\"M19 3H5c-1.1 0-2 .9-2 2v14c0 1.1.9 2 2 2h14c1.1 0 2-.9 2-2V5c0-1.1-.9-2-2-2zM9 17H7v-7h2v7zm4 0h-2V7h2v10zm4 0h-2v-4h2v4z\"/>\n",
              "    </g>\n",
              "</svg>\n",
              "      </button>\n",
              "\n",
              "<style>\n",
              "  .colab-df-quickchart {\n",
              "      --bg-color: #E8F0FE;\n",
              "      --fill-color: #1967D2;\n",
              "      --hover-bg-color: #E2EBFA;\n",
              "      --hover-fill-color: #174EA6;\n",
              "      --disabled-fill-color: #AAA;\n",
              "      --disabled-bg-color: #DDD;\n",
              "  }\n",
              "\n",
              "  [theme=dark] .colab-df-quickchart {\n",
              "      --bg-color: #3B4455;\n",
              "      --fill-color: #D2E3FC;\n",
              "      --hover-bg-color: #434B5C;\n",
              "      --hover-fill-color: #FFFFFF;\n",
              "      --disabled-bg-color: #3B4455;\n",
              "      --disabled-fill-color: #666;\n",
              "  }\n",
              "\n",
              "  .colab-df-quickchart {\n",
              "    background-color: var(--bg-color);\n",
              "    border: none;\n",
              "    border-radius: 50%;\n",
              "    cursor: pointer;\n",
              "    display: none;\n",
              "    fill: var(--fill-color);\n",
              "    height: 32px;\n",
              "    padding: 0;\n",
              "    width: 32px;\n",
              "  }\n",
              "\n",
              "  .colab-df-quickchart:hover {\n",
              "    background-color: var(--hover-bg-color);\n",
              "    box-shadow: 0 1px 2px rgba(60, 64, 67, 0.3), 0 1px 3px 1px rgba(60, 64, 67, 0.15);\n",
              "    fill: var(--button-hover-fill-color);\n",
              "  }\n",
              "\n",
              "  .colab-df-quickchart-complete:disabled,\n",
              "  .colab-df-quickchart-complete:disabled:hover {\n",
              "    background-color: var(--disabled-bg-color);\n",
              "    fill: var(--disabled-fill-color);\n",
              "    box-shadow: none;\n",
              "  }\n",
              "\n",
              "  .colab-df-spinner {\n",
              "    border: 2px solid var(--fill-color);\n",
              "    border-color: transparent;\n",
              "    border-bottom-color: var(--fill-color);\n",
              "    animation:\n",
              "      spin 1s steps(1) infinite;\n",
              "  }\n",
              "\n",
              "  @keyframes spin {\n",
              "    0% {\n",
              "      border-color: transparent;\n",
              "      border-bottom-color: var(--fill-color);\n",
              "      border-left-color: var(--fill-color);\n",
              "    }\n",
              "    20% {\n",
              "      border-color: transparent;\n",
              "      border-left-color: var(--fill-color);\n",
              "      border-top-color: var(--fill-color);\n",
              "    }\n",
              "    30% {\n",
              "      border-color: transparent;\n",
              "      border-left-color: var(--fill-color);\n",
              "      border-top-color: var(--fill-color);\n",
              "      border-right-color: var(--fill-color);\n",
              "    }\n",
              "    40% {\n",
              "      border-color: transparent;\n",
              "      border-right-color: var(--fill-color);\n",
              "      border-top-color: var(--fill-color);\n",
              "    }\n",
              "    60% {\n",
              "      border-color: transparent;\n",
              "      border-right-color: var(--fill-color);\n",
              "    }\n",
              "    80% {\n",
              "      border-color: transparent;\n",
              "      border-right-color: var(--fill-color);\n",
              "      border-bottom-color: var(--fill-color);\n",
              "    }\n",
              "    90% {\n",
              "      border-color: transparent;\n",
              "      border-bottom-color: var(--fill-color);\n",
              "    }\n",
              "  }\n",
              "</style>\n",
              "\n",
              "      <script>\n",
              "        async function quickchart(key) {\n",
              "          const quickchartButtonEl =\n",
              "            document.querySelector('#' + key + ' button');\n",
              "          quickchartButtonEl.disabled = true;  // To prevent multiple clicks.\n",
              "          quickchartButtonEl.classList.add('colab-df-spinner');\n",
              "          try {\n",
              "            const charts = await google.colab.kernel.invokeFunction(\n",
              "                'suggestCharts', [key], {});\n",
              "          } catch (error) {\n",
              "            console.error('Error during call to suggestCharts:', error);\n",
              "          }\n",
              "          quickchartButtonEl.classList.remove('colab-df-spinner');\n",
              "          quickchartButtonEl.classList.add('colab-df-quickchart-complete');\n",
              "        }\n",
              "        (() => {\n",
              "          let quickchartButtonEl =\n",
              "            document.querySelector('#df-d8ce1e74-7db4-4852-bee8-ab9c3f134949 button');\n",
              "          quickchartButtonEl.style.display =\n",
              "            google.colab.kernel.accessAllowed ? 'block' : 'none';\n",
              "        })();\n",
              "      </script>\n",
              "    </div>\n",
              "\n",
              "    </div>\n",
              "  </div>\n"
            ],
            "application/vnd.google.colaboratory.intrinsic+json": {
              "type": "dataframe",
              "variable_name": "df"
            }
          },
          "metadata": {},
          "execution_count": 12
        }
      ]
    },
    {
      "cell_type": "code",
      "source": [
        "result"
      ],
      "metadata": {
        "colab": {
          "base_uri": "https://localhost:8080/"
        },
        "id": "D2xXYF7xjX2S",
        "outputId": "a86067a3-982a-4d43-9fcb-d5f7c1556c08"
      },
      "execution_count": 13,
      "outputs": [
        {
          "output_type": "execute_result",
          "data": {
            "text/plain": [
              "array([[-0.15390101,  0.2155694 ,  0.0915251 , ..., -0.0078424 ,\n",
              "         0.07708057,  0.12112921],\n",
              "       [-0.1837566 ,  0.2315973 ,  0.17677526, ..., -0.03386087,\n",
              "         0.13624689,  0.1387108 ],\n",
              "       [-0.1960141 ,  0.24827841,  0.20724647, ..., -0.04546675,\n",
              "         0.13110738,  0.18729198],\n",
              "       ...,\n",
              "       [-0.15082671,  0.2209849 ,  0.13198237, ..., -0.0022533 ,\n",
              "         0.13829784,  0.18966816],\n",
              "       [-0.14465238,  0.22876933,  0.10029759, ..., -0.00781085,\n",
              "         0.0750124 ,  0.1552795 ],\n",
              "       [-0.23788695,  0.14499803,  0.10045211, ..., -0.02998046,\n",
              "         0.09007409,  0.12487731]], dtype=float32)"
            ]
          },
          "metadata": {},
          "execution_count": 13
        }
      ]
    },
    {
      "cell_type": "code",
      "source": [
        "label=['negative','positive','positive','positive','negative','positive','negative','negative','negative','negative','negative','positive','negative','positive','positive','positive','negative','negative','positive','negative','positive','positive','positive','positive','negative','negative','negative','positive','positive','negative','negative','positive','positive','positive','positive','negative','positive','positive','positive','positive','negative','positive','positive','negative','negative','positive','negative','positive','positive','negative','positive','positive','negative','negative','negative','negative','negative','positive','positive','negative','positive','negative','negative','positive']"
      ],
      "metadata": {
        "id": "tY_uio3vjgur"
      },
      "execution_count": 14,
      "outputs": []
    },
    {
      "cell_type": "code",
      "source": [
        "class_label=[]\n",
        "for i in label:\n",
        "  if (i=='positive'):\n",
        "    class_label.append(1)\n",
        "  else:\n",
        "    class_label.append(0)\n",
        "print(class_label)"
      ],
      "metadata": {
        "colab": {
          "base_uri": "https://localhost:8080/"
        },
        "id": "frsSCI9NkMPW",
        "outputId": "0e9e2d26-2073-4909-aeec-48e4129d7bfc"
      },
      "execution_count": 17,
      "outputs": [
        {
          "output_type": "stream",
          "name": "stdout",
          "text": [
            "[0, 1, 1, 1, 0, 1, 0, 0, 0, 0, 0, 1, 0, 1, 1, 1, 0, 0, 1, 0, 1, 1, 1, 1, 0, 0, 0, 1, 1, 0, 0, 1, 1, 1, 1, 0, 1, 1, 1, 1, 0, 1, 1, 0, 0, 1, 0, 1, 1, 0, 1, 1, 0, 0, 0, 0, 0, 1, 1, 0, 1, 0, 0, 1]\n"
          ]
        }
      ]
    },
    {
      "cell_type": "code",
      "source": [
        "X=result\n",
        "X.shape"
      ],
      "metadata": {
        "colab": {
          "base_uri": "https://localhost:8080/"
        },
        "id": "KKRlTB2slCBS",
        "outputId": "34575945-f5ef-48b5-d6b2-2cc7a44c5d62"
      },
      "execution_count": 20,
      "outputs": [
        {
          "output_type": "execute_result",
          "data": {
            "text/plain": [
              "(64, 1024)"
            ]
          },
          "metadata": {},
          "execution_count": 20
        }
      ]
    },
    {
      "cell_type": "code",
      "source": [
        "Y=np.array(class_label)"
      ],
      "metadata": {
        "id": "pV6Vfe6HlIMY"
      },
      "execution_count": 19,
      "outputs": []
    },
    {
      "cell_type": "code",
      "source": [
        "Y.shape"
      ],
      "metadata": {
        "colab": {
          "base_uri": "https://localhost:8080/"
        },
        "id": "hJQUNgU7lMGE",
        "outputId": "783a1c13-e3f7-4b37-bf53-65837bb94c91"
      },
      "execution_count": 21,
      "outputs": [
        {
          "output_type": "execute_result",
          "data": {
            "text/plain": [
              "(64,)"
            ]
          },
          "metadata": {},
          "execution_count": 21
        }
      ]
    },
    {
      "cell_type": "code",
      "source": [
        "from sklearn.model_selection import cross_val_score\n",
        "\n",
        "models = {\n",
        "    'Logistic Regression': LogisticRegression(C=0.01, max_iter=1000),\n",
        "}\n",
        "\n",
        "# 7. Evaluate with 10-fold Cross Validation\n",
        "print(\"\\nModel Comparison after Outlier Removal:\\n\")\n",
        "for name, model in models.items():\n",
        "    scores = cross_val_score(model, X, Y, cv=10, scoring='accuracy')\n",
        "    print(f\"{name:25s}: Mean Accuracy = {scores.mean():.4f} | Std = {scores.std():.4f}\")\n"
      ],
      "metadata": {
        "colab": {
          "base_uri": "https://localhost:8080/"
        },
        "id": "AUMqliMGlPhq",
        "outputId": "4ac1a7db-5000-414b-85fc-2a891858b20f"
      },
      "execution_count": 63,
      "outputs": [
        {
          "output_type": "stream",
          "name": "stdout",
          "text": [
            "\n",
            "Model Comparison after Outlier Removal:\n",
            "\n",
            "Logistic Regression      : Mean Accuracy = 0.5286 | Std = 0.0350\n"
          ]
        }
      ]
    },
    {
      "cell_type": "code",
      "source": [
        "models = {\n",
        "    'Logistic Regression': LogisticRegression(C=0.01,max_iter=1000),\n",
        "    'SVM (Linear)': SVC(kernel='linear',C=10,gamma='scale'),\n",
        "    'SVM (RBF)': SVC(kernel='rbf'),\n",
        "    'Random Forest': RandomForestClassifier(n_estimators=100),\n",
        "    #'Naive Bayes': MultinomialNB(), # Removed as it's not suitable for data with negative values after PCA\n",
        "    'K-Nearest Neighbors': KNeighborsClassifier(n_neighbors=5),\n",
        "    'XGBoost': XGBClassifier(use_label_encoder=False, eval_metric='logloss')\n",
        "}"
      ],
      "metadata": {
        "id": "M_hpuR8ImEfs"
      },
      "execution_count": 73,
      "outputs": []
    },
    {
      "cell_type": "code",
      "source": [
        "print(\"Model Comparison using 10-Fold Cross Validation:\\n\")\n",
        "for name, model in models.items():\n",
        "    scores = cross_val_score(model, X, Y, cv=10, scoring='accuracy')\n",
        "    print(f\"{name:25s}: Mean Accuracy = {scores.mean():.4f} | Std = {scores.std():.4f}\")"
      ],
      "metadata": {
        "colab": {
          "base_uri": "https://localhost:8080/"
        },
        "id": "9f_cUNAzmNps",
        "outputId": "b6eed75e-fa2b-4104-aafe-8d7ef66f0023"
      },
      "execution_count": 77,
      "outputs": [
        {
          "output_type": "stream",
          "name": "stdout",
          "text": [
            "Model Comparison using 10-Fold Cross Validation:\n",
            "\n",
            "Logistic Regression      : Mean Accuracy = 0.5286 | Std = 0.0350\n",
            "SVM (Linear)             : Mean Accuracy = 0.5762 | Std = 0.1245\n",
            "SVM (RBF)                : Mean Accuracy = 0.5286 | Std = 0.0350\n",
            "Random Forest            : Mean Accuracy = 0.5952 | Std = 0.1388\n",
            "K-Nearest Neighbors      : Mean Accuracy = 0.5214 | Std = 0.1183\n",
            "XGBoost                  : Mean Accuracy = 0.5905 | Std = 0.1683\n"
          ]
        }
      ]
    },
    {
      "cell_type": "code",
      "source": [
        "from sklearn.model_selection import StratifiedKFold\n",
        "\n",
        "print(\"Model Comparison using 10-Fold Cross Validation:\\n\")\n",
        "skf = StratifiedKFold(n_splits=10, shuffle=True, random_state=42)\n",
        "\n",
        "for name, model in models.items():\n",
        "    accs, precs, recalls, f1s = [], [], [], []\n",
        "\n",
        "    for train_index, test_index in skf.split(X, Y):\n",
        "        X_train, X_test = X[train_index], X[test_index]\n",
        "        Y_train, Y_test = Y[train_index], Y[test_index]\n",
        "\n",
        "        model.fit(X_train, Y_train)\n",
        "        Y_pred = model.predict(X_test)\n",
        "\n",
        "        accs.append(accuracy_score(Y_test, Y_pred))\n",
        "        precs.append(precision_score(Y_test, Y_pred))\n",
        "        recalls.append(recall_score(Y_test, Y_pred))\n",
        "        f1s.append(f1_score(Y_test, Y_pred))\n",
        "\n",
        "    print(f\"{name:25s}: \"\n",
        "          f\"Accuracy = {np.mean(accs):.4f} ± {np.std(accs):.4f}, \"\n",
        "          f\"Precision = {np.mean(precs):.4f}, \"\n",
        "          f\"Recall = {np.mean(recalls):.4f}, \"\n",
        "          f\"F1 Score = {np.mean(f1s):.4f}\")"
      ],
      "metadata": {
        "colab": {
          "base_uri": "https://localhost:8080/"
        },
        "id": "XHWBnBkfm8Zt",
        "outputId": "c1b73e41-a08f-4118-c361-41643d0648b0"
      },
      "execution_count": 75,
      "outputs": [
        {
          "output_type": "stream",
          "name": "stdout",
          "text": [
            "Model Comparison using 10-Fold Cross Validation:\n",
            "\n",
            "Logistic Regression      : Accuracy = 0.5286 ± 0.0350, Precision = 0.5286, Recall = 1.0000, F1 Score = 0.6909\n",
            "SVM (Linear)             : Accuracy = 0.6048 ± 0.1360, Precision = 0.6417, Recall = 0.7000, F1 Score = 0.6365\n",
            "SVM (RBF)                : Accuracy = 0.5286 ± 0.0350, Precision = 0.5286, Recall = 1.0000, F1 Score = 0.6909\n",
            "Random Forest            : Accuracy = 0.6667 ± 0.2043, Precision = 0.6733, Recall = 0.7583, F1 Score = 0.7067\n",
            "K-Nearest Neighbors      : Accuracy = 0.5238 ± 0.1440, Precision = 0.5417, Recall = 0.7333, F1 Score = 0.6110\n",
            "XGBoost                  : Accuracy = 0.6238 ± 0.1589, Precision = 0.6350, Recall = 0.7000, F1 Score = 0.6586\n"
          ]
        }
      ]
    },
    {
      "cell_type": "code",
      "source": [
        "from sklearn.model_selection import GridSearchCV\n",
        "\n",
        "params = {'C': [0.01, 0.1, 1, 10, 100]}\n",
        "clf = GridSearchCV(LogisticRegression(max_iter=1000), params, cv=10)\n",
        "clf.fit(X, Y)\n",
        "print(clf.best_params_)\n"
      ],
      "metadata": {
        "colab": {
          "base_uri": "https://localhost:8080/"
        },
        "id": "p1RCYU9lpl0L",
        "outputId": "a17d7476-0fca-4070-a9ff-c0cff49e39e8"
      },
      "execution_count": 68,
      "outputs": [
        {
          "output_type": "stream",
          "name": "stdout",
          "text": [
            "{'C': 0.1}\n"
          ]
        }
      ]
    },
    {
      "cell_type": "code",
      "source": [
        "from sklearn.model_selection import GridSearchCV\n",
        "from sklearn.svm import SVC\n",
        "\n",
        "# Define the parameter grid\n",
        "param_grid = {\n",
        "    'C': [0.1, 1, 10, 100],\n",
        "    'kernel': ['linear', 'rbf', 'poly'],\n",
        "    'gamma': ['scale', 'auto', 0.01, 0.1, 1],\n",
        "    'degree': [2, 3, 4]  # Only used if kernel='poly'\n",
        "}\n",
        "\n",
        "# Initialize the model\n",
        "svc = SVC()\n",
        "\n",
        "# Set up GridSearchCV\n",
        "grid = GridSearchCV(svc, param_grid, cv=5, scoring='accuracy', n_jobs=-1)\n",
        "\n",
        "# Fit on data\n",
        "grid.fit(X, Y)\n",
        "\n",
        "# Best parameters and score\n",
        "print(\"Best Parameters:\", grid.best_params_)\n",
        "print(\"Best CV Accuracy:\", grid.best_score_)\n"
      ],
      "metadata": {
        "colab": {
          "base_uri": "https://localhost:8080/"
        },
        "id": "RZjnXvlGr0Ka",
        "outputId": "e442083d-780d-4efd-f8ef-3762183409d8"
      },
      "execution_count": 69,
      "outputs": [
        {
          "output_type": "stream",
          "name": "stdout",
          "text": [
            "Best Parameters: {'C': 10, 'degree': 2, 'gamma': 'scale', 'kernel': 'linear'}\n",
            "Best CV Accuracy: 0.6884615384615385\n"
          ]
        }
      ]
    }
  ]
}